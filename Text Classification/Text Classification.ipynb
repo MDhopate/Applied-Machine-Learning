{
  "cells": [
    {
      "cell_type": "code",
      "execution_count": null,
      "metadata": {
        "colab": {
          "base_uri": "https://localhost:8080/"
        },
        "id": "mIRC7bcobc4p",
        "outputId": "4aabd9cc-0842-4161-cd67-777ce426934f"
      },
      "outputs": [
        {
          "name": "stderr",
          "output_type": "stream",
          "text": [
            "/Library/Frameworks/Python.framework/Versions/3.11/lib/python3.11/site-packages/tqdm/auto.py:21: TqdmWarning: IProgress not found. Please update jupyter and ipywidgets. See https://ipywidgets.readthedocs.io/en/stable/user_install.html\n",
            "  from .autonotebook import tqdm as notebook_tqdm\n"
          ]
        }
      ],
      "source": [
        "# Importing required modules\n",
        "import pandas as pd\n",
        "import numpy as np\n",
        "from sklearn.model_selection import train_test_split\n",
        "from transformers import AutoTokenizer\n",
        "from transformers import DistilBertTokenizerFast\n",
        "# from tensorflow.keras.callbacks import EarlyStopping\n",
        "from sklearn.metrics import accuracy_score\n",
        "from matplotlib import pyplot as plt\n",
        "import re\n",
        "\n",
        "# Ignore all warnings\n",
        "import warnings\n",
        "warnings.filterwarnings(\"ignore\")\n",
        "\n",
        "# from google.colab import drive\n",
        "# drive.mount('/content/drive')"
      ]
    },
    {
      "cell_type": "code",
      "execution_count": null,
      "metadata": {
        "id": "Yex1nRwUbsqX"
      },
      "outputs": [],
      "source": [
        "# Path to data file\n",
        "file_path = 'HW4_Question2_dataset2.xlsx'\n",
        "\n",
        "# Reading the xslv file along with the labels\n",
        "df = pd.read_excel(file_path)"
      ]
    },
    {
      "cell_type": "markdown",
      "metadata": {
        "id": "Iqt1IKcUZAR6"
      },
      "source": [
        "### Question no. 1\n",
        "- Create dataset that contains 1000 words in total (5 points) and minimum two categories with at least 100 examples per category"
      ]
    },
    {
      "cell_type": "code",
      "execution_count": null,
      "metadata": {
        "id": "1wtLYWkQZAR7",
        "outputId": "46d9a6a8-2536-49f7-92aa-2ba624a80bbe"
      },
      "outputs": [
        {
          "name": "stdout",
          "output_type": "stream",
          "text": [
            "Total number of words in the data column: 6401\n"
          ]
        }
      ],
      "source": [
        "# Path to data file\n",
        "file_path = 'HW4_Question2_dataset2.xlsx'\n",
        "\n",
        "# Reading the Excel file along with the labels\n",
        "df = pd.read_excel(file_path)\n",
        "\n",
        "# Assuming your text data is in a column named 'Text', you can replace it with the actual column name\n",
        "text_column_name = 'Data'\n",
        "\n",
        "# Concatenate all text in the specified column into a single string\n",
        "all_text = ' '.join(df[text_column_name].astype(str))\n",
        "\n",
        "# Use regular expression to count words (assuming words are separated by whitespace)\n",
        "word_count = len(re.findall(r'\\b\\w+\\b', all_text))\n",
        "\n",
        "print(f'Total number of words in the data column: {word_count}')"
      ]
    },
    {
      "cell_type": "code",
      "execution_count": null,
      "metadata": {
        "id": "btrCE_LTZAR7",
        "outputId": "faac458f-c81c-49da-fafb-62f8d0953542"
      },
      "outputs": [
        {
          "data": {
            "text/plain": [
              "label\n",
              "technology    300\n",
              "sports        260\n",
              "Name: count, dtype: int64"
            ]
          },
          "execution_count": 4,
          "metadata": {},
          "output_type": "execute_result"
        }
      ],
      "source": [
        "# Displaying number of entries for each category in the dataset\n",
        "df['label'].value_counts()"
      ]
    },
    {
      "cell_type": "markdown",
      "metadata": {
        "id": "c0rIRTv-ZAR8"
      },
      "source": [
        "### Created a dataset that contains 6401 words in total and two categories and has more than 100 examples in each category."
      ]
    },
    {
      "cell_type": "code",
      "execution_count": null,
      "metadata": {
        "colab": {
          "base_uri": "https://localhost:8080/",
          "height": 206
        },
        "id": "YJ_cw1Xvc_Xy",
        "outputId": "45908121-5d17-4ed7-d640-cf5fff2bd84c"
      },
      "outputs": [
        {
          "data": {
            "text/html": [
              "<div>\n",
              "<style scoped>\n",
              "    .dataframe tbody tr th:only-of-type {\n",
              "        vertical-align: middle;\n",
              "    }\n",
              "\n",
              "    .dataframe tbody tr th {\n",
              "        vertical-align: top;\n",
              "    }\n",
              "\n",
              "    .dataframe thead th {\n",
              "        text-align: right;\n",
              "    }\n",
              "</style>\n",
              "<table border=\"1\" class=\"dataframe\">\n",
              "  <thead>\n",
              "    <tr style=\"text-align: right;\">\n",
              "      <th></th>\n",
              "      <th>Data</th>\n",
              "      <th>label</th>\n",
              "    </tr>\n",
              "  </thead>\n",
              "  <tbody>\n",
              "    <tr>\n",
              "      <th>0</th>\n",
              "      <td>The rapid advancement in technology has transf...</td>\n",
              "      <td>technology</td>\n",
              "    </tr>\n",
              "    <tr>\n",
              "      <th>1</th>\n",
              "      <td>From smartphones to artificial intelligence, t...</td>\n",
              "      <td>technology</td>\n",
              "    </tr>\n",
              "    <tr>\n",
              "      <th>2</th>\n",
              "      <td>Machine learning and deep learning lead cuttin...</td>\n",
              "      <td>technology</td>\n",
              "    </tr>\n",
              "    <tr>\n",
              "      <th>3</th>\n",
              "      <td>These algorithms power applications like image...</td>\n",
              "      <td>technology</td>\n",
              "    </tr>\n",
              "    <tr>\n",
              "      <th>4</th>\n",
              "      <td>Autonomous vehicles rely on advanced machine l...</td>\n",
              "      <td>technology</td>\n",
              "    </tr>\n",
              "  </tbody>\n",
              "</table>\n",
              "</div>"
            ],
            "text/plain": [
              "                                                Data       label\n",
              "0  The rapid advancement in technology has transf...  technology\n",
              "1  From smartphones to artificial intelligence, t...  technology\n",
              "2  Machine learning and deep learning lead cuttin...  technology\n",
              "3  These algorithms power applications like image...  technology\n",
              "4  Autonomous vehicles rely on advanced machine l...  technology"
            ]
          },
          "execution_count": 5,
          "metadata": {},
          "output_type": "execute_result"
        }
      ],
      "source": [
        "# Display the DataFrame\n",
        "df.head()"
      ]
    },
    {
      "cell_type": "code",
      "execution_count": null,
      "metadata": {
        "colab": {
          "base_uri": "https://localhost:8080/"
        },
        "id": "yzmcDL_udFBD",
        "outputId": "25ab7ba9-e623-4e07-f46f-7324c3e5eb4f"
      },
      "outputs": [
        {
          "data": {
            "text/plain": [
              "(560, 2)"
            ]
          },
          "execution_count": 6,
          "metadata": {},
          "output_type": "execute_result"
        }
      ],
      "source": [
        "# Displaying shape of the total dataset\n",
        "df.shape"
      ]
    },
    {
      "cell_type": "markdown",
      "metadata": {
        "id": "DgnhT-2tZAR9"
      },
      "source": [
        "### Question no. 2\n",
        "- Training set should. contain minimum 160 examples (2.5 points) and Test set should contain minimum 40 examples"
      ]
    },
    {
      "cell_type": "code",
      "execution_count": null,
      "metadata": {
        "id": "H5_llTYigzmG"
      },
      "outputs": [],
      "source": [
        "# Assuming your original DataFrame has a column \"label\" with string labels\n",
        "label_mapping = {\"technology\": 0, \"sports\": 1}\n",
        "\n",
        "# Use the map function to replace string labels with numerical values\n",
        "df[\"label\"] = df[\"label\"].map(label_mapping)\n",
        "\n",
        "# Split the data into training and testing sets\n",
        "train_data, test_data = train_test_split(df, test_size=0.2, random_state=42)\n",
        "\n",
        "# Split the data into training and validation sets\n",
        "train_data, val_data = train_test_split(train_data, test_size=0.2, random_state=42)"
      ]
    },
    {
      "cell_type": "code",
      "execution_count": null,
      "metadata": {
        "colab": {
          "base_uri": "https://localhost:8080/"
        },
        "id": "nt2wawQYh7Kw",
        "outputId": "2058a407-566c-493f-c4dc-d3560537e197"
      },
      "outputs": [
        {
          "data": {
            "text/plain": [
              "(358, 2)"
            ]
          },
          "execution_count": 8,
          "metadata": {},
          "output_type": "execute_result"
        }
      ],
      "source": [
        "# Training data shape\n",
        "train_data.shape"
      ]
    },
    {
      "cell_type": "code",
      "execution_count": null,
      "metadata": {
        "colab": {
          "base_uri": "https://localhost:8080/"
        },
        "id": "21uxpztTij1f",
        "outputId": "1792874b-d84b-49da-ff2d-f5b336b40d41"
      },
      "outputs": [
        {
          "data": {
            "text/plain": [
              "(90, 2)"
            ]
          },
          "execution_count": 9,
          "metadata": {},
          "output_type": "execute_result"
        }
      ],
      "source": [
        "# validation data shape\n",
        "val_data.shape"
      ]
    },
    {
      "cell_type": "code",
      "execution_count": null,
      "metadata": {
        "colab": {
          "base_uri": "https://localhost:8080/"
        },
        "id": "hGuWNixlh988",
        "outputId": "7ff7a73e-22b3-4f3a-a83b-de7b81f86c79"
      },
      "outputs": [
        {
          "data": {
            "text/plain": [
              "(112, 2)"
            ]
          },
          "execution_count": 10,
          "metadata": {},
          "output_type": "execute_result"
        }
      ],
      "source": [
        "# Testing data shape\n",
        "test_data.shape"
      ]
    },
    {
      "cell_type": "markdown",
      "metadata": {
        "id": "4h3y7KfEZAR-"
      },
      "source": [
        "- Training data has 358 entries.\n",
        "- Testing data has 112 entries.\n",
        "- Validation data has 90 entries."
      ]
    },
    {
      "cell_type": "code",
      "execution_count": null,
      "metadata": {
        "colab": {
          "base_uri": "https://localhost:8080/",
          "height": 206
        },
        "id": "DUnBdp14y0tv",
        "outputId": "b16fa4bc-1187-462b-cd85-6d648e5dd46a"
      },
      "outputs": [
        {
          "data": {
            "text/html": [
              "<div>\n",
              "<style scoped>\n",
              "    .dataframe tbody tr th:only-of-type {\n",
              "        vertical-align: middle;\n",
              "    }\n",
              "\n",
              "    .dataframe tbody tr th {\n",
              "        vertical-align: top;\n",
              "    }\n",
              "\n",
              "    .dataframe thead th {\n",
              "        text-align: right;\n",
              "    }\n",
              "</style>\n",
              "<table border=\"1\" class=\"dataframe\">\n",
              "  <thead>\n",
              "    <tr style=\"text-align: right;\">\n",
              "      <th></th>\n",
              "      <th>Data</th>\n",
              "      <th>label</th>\n",
              "    </tr>\n",
              "  </thead>\n",
              "  <tbody>\n",
              "    <tr>\n",
              "      <th>497</th>\n",
              "      <td>Paddleboarding races involve paddlers standing...</td>\n",
              "      <td>1</td>\n",
              "    </tr>\n",
              "    <tr>\n",
              "      <th>268</th>\n",
              "      <td>Social robotics explores the interaction betwe...</td>\n",
              "      <td>0</td>\n",
              "    </tr>\n",
              "    <tr>\n",
              "      <th>36</th>\n",
              "      <td>Voice-activated virtual assistants, like Siri ...</td>\n",
              "      <td>0</td>\n",
              "    </tr>\n",
              "    <tr>\n",
              "      <th>370</th>\n",
              "      <td>Edge AI in manufacturing enhances quality cont...</td>\n",
              "      <td>0</td>\n",
              "    </tr>\n",
              "    <tr>\n",
              "      <th>468</th>\n",
              "      <td>The World Surf League crowns the best professi...</td>\n",
              "      <td>1</td>\n",
              "    </tr>\n",
              "  </tbody>\n",
              "</table>\n",
              "</div>"
            ],
            "text/plain": [
              "                                                  Data  label\n",
              "497  Paddleboarding races involve paddlers standing...      1\n",
              "268  Social robotics explores the interaction betwe...      0\n",
              "36   Voice-activated virtual assistants, like Siri ...      0\n",
              "370  Edge AI in manufacturing enhances quality cont...      0\n",
              "468  The World Surf League crowns the best professi...      1"
            ]
          },
          "execution_count": 11,
          "metadata": {},
          "output_type": "execute_result"
        }
      ],
      "source": [
        "# Displaying first 5 rows of the training dataset\n",
        "train_data.head()"
      ]
    },
    {
      "cell_type": "code",
      "execution_count": null,
      "metadata": {
        "colab": {
          "base_uri": "https://localhost:8080/",
          "height": 206
        },
        "id": "jxYyjUkvywPV",
        "outputId": "0ba30578-b250-46c9-ce3c-f96279991615"
      },
      "outputs": [
        {
          "data": {
            "text/html": [
              "<div>\n",
              "<style scoped>\n",
              "    .dataframe tbody tr th:only-of-type {\n",
              "        vertical-align: middle;\n",
              "    }\n",
              "\n",
              "    .dataframe tbody tr th {\n",
              "        vertical-align: top;\n",
              "    }\n",
              "\n",
              "    .dataframe thead th {\n",
              "        text-align: right;\n",
              "    }\n",
              "</style>\n",
              "<table border=\"1\" class=\"dataframe\">\n",
              "  <thead>\n",
              "    <tr style=\"text-align: right;\">\n",
              "      <th></th>\n",
              "      <th>Data</th>\n",
              "      <th>label</th>\n",
              "    </tr>\n",
              "  </thead>\n",
              "  <tbody>\n",
              "    <tr>\n",
              "      <th>453</th>\n",
              "      <td>Weightlifting competitions test athletes' stre...</td>\n",
              "      <td>1</td>\n",
              "    </tr>\n",
              "    <tr>\n",
              "      <th>341</th>\n",
              "      <td>Quantum metrology achieves highly precise meas...</td>\n",
              "      <td>0</td>\n",
              "    </tr>\n",
              "    <tr>\n",
              "      <th>177</th>\n",
              "      <td>The Premier League is one of the most-watched ...</td>\n",
              "      <td>1</td>\n",
              "    </tr>\n",
              "    <tr>\n",
              "      <th>86</th>\n",
              "      <td>Neural interfaces enable communication between...</td>\n",
              "      <td>0</td>\n",
              "    </tr>\n",
              "    <tr>\n",
              "      <th>332</th>\n",
              "      <td>Edge AI in manufacturing improves production e...</td>\n",
              "      <td>0</td>\n",
              "    </tr>\n",
              "  </tbody>\n",
              "</table>\n",
              "</div>"
            ],
            "text/plain": [
              "                                                  Data  label\n",
              "453  Weightlifting competitions test athletes' stre...      1\n",
              "341  Quantum metrology achieves highly precise meas...      0\n",
              "177  The Premier League is one of the most-watched ...      1\n",
              "86   Neural interfaces enable communication between...      0\n",
              "332  Edge AI in manufacturing improves production e...      0"
            ]
          },
          "execution_count": 12,
          "metadata": {},
          "output_type": "execute_result"
        }
      ],
      "source": [
        "# Displaying first 5 rows of the testing dataset\n",
        "test_data.head()"
      ]
    },
    {
      "cell_type": "code",
      "execution_count": null,
      "metadata": {
        "colab": {
          "base_uri": "https://localhost:8080/"
        },
        "id": "quo4xemQzsHW",
        "outputId": "08301b40-394f-4a03-b4be-b079c9f70915"
      },
      "outputs": [
        {
          "name": "stdout",
          "output_type": "stream",
          "text": [
            "<class 'pandas.core.frame.DataFrame'>\n",
            "Index: 358 entries, 497 to 94\n",
            "Data columns (total 2 columns):\n",
            " #   Column  Non-Null Count  Dtype \n",
            "---  ------  --------------  ----- \n",
            " 0   Data    358 non-null    object\n",
            " 1   label   358 non-null    int64 \n",
            "dtypes: int64(1), object(1)\n",
            "memory usage: 8.4+ KB\n"
          ]
        }
      ],
      "source": [
        "# Displaying first 5 rows of the training dataset\n",
        "train_data.info()"
      ]
    },
    {
      "cell_type": "markdown",
      "metadata": {
        "id": "oT7pmyOPZAR-"
      },
      "source": [
        "### Question no. 3.1\n",
        "- Fine tuning a pre-trained model with the dataset you created."
      ]
    },
    {
      "cell_type": "code",
      "execution_count": null,
      "metadata": {
        "id": "M4F1xQRFdJ95"
      },
      "outputs": [],
      "source": [
        "# Importing necessary libraries\n",
        "# early_stopping = EarlyStopping(monitor=\"val_loss\", patience=3, restore_best_weights=True)\n",
        "\n",
        "# Using the DistilBERT tokenizer to convert text data into tokens\n",
        "tokenizer = DistilBertTokenizerFast.from_pretrained('distilbert-base-uncased')\n",
        "\n",
        "# Tokenizing the training data and converting it into a numpy array\n",
        "tokenized_data = tokenizer(list(train_data[\"Data\"]), return_tensors=\"np\", padding=True)\n",
        "\n",
        "# Tokenizing the validation data and converting it into a numpy array\n",
        "tokenized_val_data = tokenizer(list(val_data[\"Data\"]), return_tensors=\"np\", padding=True)\n",
        "\n",
        "# Converting the tokenized data into a dictionary for Keras\n",
        "tokenized_data = dict(tokenized_data)\n",
        "tokenized_val_data = dict(tokenized_val_data)\n",
        "\n",
        "# Extracting numerical labels from the training and validation data\n",
        "train_labels = np.array(train_data[\"label\"])\n",
        "val_labels = np.array(val_data[\"label\"])"
      ]
    },
    {
      "cell_type": "code",
      "execution_count": null,
      "metadata": {
        "id": "46LP6qgpZAR-",
        "outputId": "508a6bf1-edf4-4bd0-90d3-fbec6b65b7c3"
      },
      "outputs": [
        {
          "name": "stderr",
          "output_type": "stream",
          "text": [
            "2023-12-11 23:46:35.375790: I metal_plugin/src/device/metal_device.cc:1154] Metal device set to: Apple M2\n",
            "2023-12-11 23:46:35.375822: I metal_plugin/src/device/metal_device.cc:296] systemMemory: 8.00 GB\n",
            "2023-12-11 23:46:35.375830: I metal_plugin/src/device/metal_device.cc:313] maxCacheSize: 2.67 GB\n",
            "2023-12-11 23:46:35.375911: I tensorflow/core/common_runtime/pluggable_device/pluggable_device_factory.cc:306] Could not identify NUMA node of platform GPU ID 0, defaulting to 0. Your kernel may not have been built with NUMA support.\n",
            "2023-12-11 23:46:35.375950: I tensorflow/core/common_runtime/pluggable_device/pluggable_device_factory.cc:272] Created TensorFlow device (/job:localhost/replica:0/task:0/device:GPU:0 with 0 MB memory) -> physical PluggableDevice (device: 0, name: METAL, pci bus id: <undefined>)\n",
            "Some weights of the PyTorch model were not used when initializing the TF 2.0 model TFDistilBertForSequenceClassification: ['vocab_layer_norm.bias', 'vocab_transform.bias', 'vocab_layer_norm.weight', 'vocab_projector.bias', 'vocab_transform.weight']\n",
            "- This IS expected if you are initializing TFDistilBertForSequenceClassification from a PyTorch model trained on another task or with another architecture (e.g. initializing a TFBertForSequenceClassification model from a BertForPreTraining model).\n",
            "- This IS NOT expected if you are initializing TFDistilBertForSequenceClassification from a PyTorch model that you expect to be exactly identical (e.g. initializing a TFBertForSequenceClassification model from a BertForSequenceClassification model).\n",
            "Some weights or buffers of the TF 2.0 model TFDistilBertForSequenceClassification were not initialized from the PyTorch model and are newly initialized: ['pre_classifier.weight', 'pre_classifier.bias', 'classifier.weight', 'classifier.bias']\n",
            "You should probably TRAIN this model on a down-stream task to be able to use it for predictions and inference.\n",
            "WARNING:absl:At this time, the v2.11+ optimizer `tf.keras.optimizers.Adam` runs slowly on M1/M2 Macs, please use the legacy Keras optimizer instead, located at `tf.keras.optimizers.legacy.Adam`.\n"
          ]
        },
        {
          "name": "stdout",
          "output_type": "stream",
          "text": [
            "Epoch 1/8\n"
          ]
        },
        {
          "name": "stderr",
          "output_type": "stream",
          "text": [
            "2023-12-11 23:46:42.281543: I tensorflow/core/grappler/optimizers/custom_graph_optimizer_registry.cc:117] Plugin optimizer for device_type GPU is enabled.\n",
            "2023-12-11 23:46:42.630126: E tensorflow/core/grappler/optimizers/meta_optimizer.cc:961] model_pruner failed: INVALID_ARGUMENT: Graph does not contain terminal node Adam/AssignAddVariableOp_10.\n"
          ]
        },
        {
          "name": "stdout",
          "output_type": "stream",
          "text": [
            "12/12 [==============================] - 19s 830ms/step - loss: 1.8669 - accuracy: 0.5698 - val_loss: 0.3730 - val_accuracy: 0.7778\n",
            "Epoch 2/8\n",
            "12/12 [==============================] - 4s 346ms/step - loss: 0.2287 - accuracy: 0.6145 - val_loss: 0.0572 - val_accuracy: 0.7333\n",
            "Epoch 3/8\n",
            "12/12 [==============================] - 4s 348ms/step - loss: 0.0209 - accuracy: 0.4804 - val_loss: 4.1686e-04 - val_accuracy: 0.5444\n",
            "Epoch 4/8\n",
            "12/12 [==============================] - 4s 346ms/step - loss: 0.0038 - accuracy: 0.3883 - val_loss: 0.0000e+00 - val_accuracy: 0.4333\n",
            "Epoch 5/8\n",
            "12/12 [==============================] - 4s 356ms/step - loss: 4.1310e-04 - accuracy: 0.4078 - val_loss: 0.0000e+00 - val_accuracy: 0.4556\n",
            "Epoch 6/8\n",
            "12/12 [==============================] - 4s 331ms/step - loss: 0.0000e+00 - accuracy: 0.3520 - val_loss: 0.0000e+00 - val_accuracy: 0.4556\n",
            "Epoch 7/8\n",
            "12/12 [==============================] - 4s 295ms/step - loss: 3.0463e-04 - accuracy: 0.3911 - val_loss: 0.0000e+00 - val_accuracy: 0.4222\n",
            "Epoch 8/8\n",
            "12/12 [==============================] - 4s 301ms/step - loss: 0.0000e+00 - accuracy: 0.4162 - val_loss: 0.0000e+00 - val_accuracy: 0.4222\n"
          ]
        }
      ],
      "source": [
        "# Importing necessary libraries\n",
        "from transformers import TFDistilBertForSequenceClassification, DistilBertConfig\n",
        "from tensorflow.keras.optimizers import Adam\n",
        "\n",
        "# Load DistilBERT model with a specific configuration\n",
        "config = DistilBertConfig(dropout=0.1)  # Adjust dropout rate as needed\n",
        "model_1 = TFDistilBertForSequenceClassification.from_pretrained(\"distilbert-base-uncased\", config=config)\n",
        "\n",
        "# Compile the model with an optimizer and a loss function\n",
        "# Using Adam optimizer with a learning rate of 3e-5\n",
        "# Binary crossentropy loss is used for binary classification\n",
        "model_1.compile(optimizer=Adam(learning_rate=3e-5), loss=\"binary_crossentropy\", metrics=[\"accuracy\"])\n",
        "\n",
        "# Train the model using the tokenized training data and labels\n",
        "# Validation data and labels are provided for monitoring model performance on unseen data\n",
        "# Training for 16 epochs\n",
        "history_1 = model_1.fit(x=tokenized_data, y=train_labels, validation_data=(tokenized_val_data, val_labels), epochs=8)"
      ]
    },
    {
      "cell_type": "code",
      "execution_count": null,
      "metadata": {
        "id": "L1oAdhK6ZAR_",
        "outputId": "3dc941b6-5c8a-4433-9163-10500248223c"
      },
      "outputs": [
        {
          "name": "stdout",
          "output_type": "stream",
          "text": [
            "4/4 [==============================] - 4s 525ms/step - loss: 0.0000e+00 - accuracy: 0.3750\n"
          ]
        }
      ],
      "source": [
        "# Tokenize the test data using the same tokenizer used for training and validation\n",
        "tokenized_test_data = tokenizer(list(test_data[\"Data\"]), return_tensors=\"np\", padding=True)\n",
        "\n",
        "# Tokenizer returns a BatchEncoding, converting it to a dictionary for compatibility with Keras\n",
        "tokenized_test_data = dict(tokenized_test_data)\n",
        "\n",
        "# Extract numerical labels from the test data\n",
        "test_labels = np.array(test_data[\"label\"])\n",
        "\n",
        "# Evaluate the trained model on the test data\n",
        "evaluation = model_1.evaluate(tokenized_test_data, test_labels)"
      ]
    },
    {
      "cell_type": "code",
      "execution_count": null,
      "metadata": {
        "id": "CkqEFHWpZAR_",
        "outputId": "5f7a0972-2b6d-4edd-f470-4a8157cc4d51"
      },
      "outputs": [
        {
          "name": "stdout",
          "output_type": "stream",
          "text": [
            "4/4 [==============================] - 4s 474ms/step\n"
          ]
        }
      ],
      "source": [
        "# Make predictions on the test data using the trained model\n",
        "output = model_1.predict(tokenized_test_data)"
      ]
    },
    {
      "cell_type": "code",
      "execution_count": null,
      "metadata": {
        "colab": {
          "base_uri": "https://localhost:8080/"
        },
        "id": "zw5HXYKMdcKH",
        "outputId": "43160e62-6875-4ff0-f53f-21606ebe1899"
      },
      "outputs": [
        {
          "name": "stderr",
          "output_type": "stream",
          "text": [
            "Some weights of the PyTorch model were not used when initializing the TF 2.0 model TFDistilBertForSequenceClassification: ['vocab_layer_norm.bias', 'vocab_transform.bias', 'vocab_layer_norm.weight', 'vocab_projector.bias', 'vocab_transform.weight']\n",
            "- This IS expected if you are initializing TFDistilBertForSequenceClassification from a PyTorch model trained on another task or with another architecture (e.g. initializing a TFBertForSequenceClassification model from a BertForPreTraining model).\n",
            "- This IS NOT expected if you are initializing TFDistilBertForSequenceClassification from a PyTorch model that you expect to be exactly identical (e.g. initializing a TFBertForSequenceClassification model from a BertForSequenceClassification model).\n",
            "Some weights or buffers of the TF 2.0 model TFDistilBertForSequenceClassification were not initialized from the PyTorch model and are newly initialized: ['pre_classifier.weight', 'pre_classifier.bias', 'classifier.weight', 'classifier.bias']\n",
            "You should probably TRAIN this model on a down-stream task to be able to use it for predictions and inference.\n",
            "WARNING:absl:At this time, the v2.11+ optimizer `tf.keras.optimizers.Adam` runs slowly on M1/M2 Macs, please use the legacy Keras optimizer instead, located at `tf.keras.optimizers.legacy.Adam`.\n"
          ]
        },
        {
          "name": "stdout",
          "output_type": "stream",
          "text": [
            "Epoch 1/12\n",
            "12/12 [==============================] - 24s 1s/step - loss: 1.1725 - accuracy: 0.4106 - val_loss: 0.5670 - val_accuracy: 0.4444\n",
            "Epoch 2/12\n",
            "12/12 [==============================] - 5s 428ms/step - loss: 0.4326 - accuracy: 0.3799 - val_loss: 0.1825 - val_accuracy: 0.2667\n",
            "Epoch 3/12\n",
            "12/12 [==============================] - 5s 440ms/step - loss: 0.0753 - accuracy: 0.5223 - val_loss: 0.0037 - val_accuracy: 0.6778\n",
            "Epoch 4/12\n",
            "12/12 [==============================] - 5s 394ms/step - loss: 0.0040 - accuracy: 0.6397 - val_loss: 7.2271e-04 - val_accuracy: 0.8222\n",
            "Epoch 5/12\n",
            "12/12 [==============================] - 4s 354ms/step - loss: 3.2032e-04 - accuracy: 0.6704 - val_loss: 0.0000e+00 - val_accuracy: 0.8556\n",
            "Epoch 6/12\n",
            "12/12 [==============================] - 4s 361ms/step - loss: 0.0015 - accuracy: 0.6983 - val_loss: 0.0000e+00 - val_accuracy: 0.8667\n",
            "Epoch 7/12\n",
            "12/12 [==============================] - 5s 408ms/step - loss: 6.3851e-05 - accuracy: 0.7318 - val_loss: 0.0000e+00 - val_accuracy: 0.8778\n",
            "Epoch 8/12\n",
            "12/12 [==============================] - 4s 365ms/step - loss: 7.4091e-04 - accuracy: 0.7095 - val_loss: 0.0000e+00 - val_accuracy: 0.8778\n",
            "Epoch 9/12\n",
            "12/12 [==============================] - 4s 347ms/step - loss: 0.0000e+00 - accuracy: 0.7179 - val_loss: 0.0000e+00 - val_accuracy: 0.8667\n",
            "Epoch 10/12\n",
            "12/12 [==============================] - 5s 373ms/step - loss: 3.4061e-04 - accuracy: 0.7291 - val_loss: 0.0000e+00 - val_accuracy: 0.8667\n",
            "Epoch 11/12\n",
            "12/12 [==============================] - 4s 355ms/step - loss: 1.1049e-04 - accuracy: 0.6927 - val_loss: 0.0000e+00 - val_accuracy: 0.8889\n",
            "Epoch 12/12\n",
            "12/12 [==============================] - 4s 316ms/step - loss: 0.0000e+00 - accuracy: 0.7486 - val_loss: 0.0000e+00 - val_accuracy: 0.9000\n"
          ]
        }
      ],
      "source": [
        "# Importing necessary libraries\n",
        "from transformers import TFDistilBertForSequenceClassification, DistilBertConfig\n",
        "from tensorflow.keras.optimizers import Adam\n",
        "\n",
        "# Load DistilBERT model with a specific configuration\n",
        "config = DistilBertConfig(dropout=0.2)  # Adjust dropout rate as needed\n",
        "model_2 = TFDistilBertForSequenceClassification.from_pretrained(\"distilbert-base-uncased\", config=config)\n",
        "\n",
        "# Compile the model with an optimizer and a loss function\n",
        "# Using Adam optimizer with a learning rate of 3e-5\n",
        "# Binary crossentropy loss is used for binary classification\n",
        "model_2.compile(optimizer=Adam(learning_rate=3e-5), loss=\"binary_crossentropy\", metrics=[\"accuracy\"])\n",
        "\n",
        "# Train the model using the tokenized training data and labels\n",
        "# Validation data and labels are provided for monitoring model performance on unseen data\n",
        "# Training for 16 epochs\n",
        "history_2 = model_2.fit(x=tokenized_data, y=train_labels, validation_data=(tokenized_val_data, val_labels), epochs=12)"
      ]
    },
    {
      "cell_type": "code",
      "execution_count": null,
      "metadata": {
        "colab": {
          "base_uri": "https://localhost:8080/"
        },
        "id": "vqrsquc6YZF6",
        "outputId": "b94f8a5d-b6d1-4b51-ef98-3f5924a72b3d"
      },
      "outputs": [
        {
          "name": "stdout",
          "output_type": "stream",
          "text": [
            "4/4 [==============================] - 5s 781ms/step - loss: 0.0000e+00 - accuracy: 0.9286\n"
          ]
        }
      ],
      "source": [
        "# Tokenize the test data using the same tokenizer used for training and validation\n",
        "tokenized_test_data = tokenizer(list(test_data[\"Data\"]), return_tensors=\"np\", padding=True)\n",
        "\n",
        "# Tokenizer returns a BatchEncoding, converting it to a dictionary for compatibility with Keras\n",
        "tokenized_test_data = dict(tokenized_test_data)\n",
        "\n",
        "# Extract numerical labels from the test data\n",
        "test_labels = np.array(test_data[\"label\"])\n",
        "\n",
        "# Evaluate the trained model on the test data\n",
        "evaluation = model_2.evaluate(tokenized_test_data, test_labels)"
      ]
    },
    {
      "cell_type": "code",
      "execution_count": null,
      "metadata": {
        "id": "wHTQIQwXZAR_",
        "outputId": "7633f33b-06b2-4370-de12-b70ca17b1806"
      },
      "outputs": [
        {
          "name": "stdout",
          "output_type": "stream",
          "text": [
            "4/4 [==============================] - 5s 774ms/step\n"
          ]
        }
      ],
      "source": [
        "# Make predictions on the test data using the trained model\n",
        "output = model_2.predict(tokenized_test_data)"
      ]
    },
    {
      "cell_type": "code",
      "execution_count": null,
      "metadata": {
        "id": "X7Hr7_4nZAR_",
        "outputId": "f3111f93-c2f9-44e2-e54c-26828a660c58"
      },
      "outputs": [
        {
          "name": "stderr",
          "output_type": "stream",
          "text": [
            "Some weights of the PyTorch model were not used when initializing the TF 2.0 model TFDistilBertForSequenceClassification: ['vocab_layer_norm.bias', 'vocab_transform.bias', 'vocab_layer_norm.weight', 'vocab_projector.bias', 'vocab_transform.weight']\n",
            "- This IS expected if you are initializing TFDistilBertForSequenceClassification from a PyTorch model trained on another task or with another architecture (e.g. initializing a TFBertForSequenceClassification model from a BertForPreTraining model).\n",
            "- This IS NOT expected if you are initializing TFDistilBertForSequenceClassification from a PyTorch model that you expect to be exactly identical (e.g. initializing a TFBertForSequenceClassification model from a BertForSequenceClassification model).\n",
            "Some weights or buffers of the TF 2.0 model TFDistilBertForSequenceClassification were not initialized from the PyTorch model and are newly initialized: ['pre_classifier.weight', 'pre_classifier.bias', 'classifier.weight', 'classifier.bias']\n",
            "You should probably TRAIN this model on a down-stream task to be able to use it for predictions and inference.\n",
            "WARNING:absl:At this time, the v2.11+ optimizer `tf.keras.optimizers.Adam` runs slowly on M1/M2 Macs, please use the legacy Keras optimizer instead, located at `tf.keras.optimizers.legacy.Adam`.\n"
          ]
        },
        {
          "name": "stdout",
          "output_type": "stream",
          "text": [
            "Epoch 1/5\n"
          ]
        },
        {
          "name": "stderr",
          "output_type": "stream",
          "text": [
            "2023-12-11 23:49:04.943376: E tensorflow/core/grappler/optimizers/meta_optimizer.cc:961] model_pruner failed: INVALID_ARGUMENT: Graph does not contain terminal node Adam/AssignAddVariableOp_10.\n"
          ]
        },
        {
          "name": "stdout",
          "output_type": "stream",
          "text": [
            "12/12 [==============================] - 30s 2s/step - loss: 0.8651 - accuracy: 0.4385 - val_loss: 0.5942 - val_accuracy: 0.4222\n",
            "Epoch 2/5\n",
            "12/12 [==============================] - 7s 545ms/step - loss: 0.5613 - accuracy: 0.5056 - val_loss: 0.4070 - val_accuracy: 0.2667\n",
            "Epoch 3/5\n",
            "12/12 [==============================] - 7s 547ms/step - loss: 0.2501 - accuracy: 0.3184 - val_loss: 0.0924 - val_accuracy: 0.0556\n",
            "Epoch 4/5\n",
            "12/12 [==============================] - 5s 445ms/step - loss: 0.0260 - accuracy: 0.1173 - val_loss: 0.0085 - val_accuracy: 0.0778\n",
            "Epoch 5/5\n",
            "12/12 [==============================] - 5s 374ms/step - loss: 0.0491 - accuracy: 0.2151 - val_loss: 0.0012 - val_accuracy: 0.0667\n"
          ]
        }
      ],
      "source": [
        "# Importing necessary libraries\n",
        "from transformers import TFDistilBertForSequenceClassification, DistilBertConfig\n",
        "from tensorflow.keras.optimizers import Adam\n",
        "\n",
        "# Load DistilBERT model with a specific configuration\n",
        "config = DistilBertConfig(dropout=0.5)  # Adjust dropout rate as needed\n",
        "model_3 = TFDistilBertForSequenceClassification.from_pretrained(\"distilbert-base-uncased\", config=config)\n",
        "\n",
        "# Compile the model with an optimizer and a loss function\n",
        "# Using Adam optimizer with a learning rate of 3e-5\n",
        "# Binary crossentropy loss is used for binary classification\n",
        "model_3.compile(optimizer=Adam(learning_rate=3e-5), loss=\"binary_crossentropy\", metrics=[\"accuracy\"])\n",
        "\n",
        "# Train the model using the tokenized training data and labels\n",
        "# Validation data and labels are provided for monitoring model performance on unseen data\n",
        "# Training for 16 epochs\n",
        "history_3 = model_3.fit(x=tokenized_data, y=train_labels, validation_data=(tokenized_val_data, val_labels), epochs=5)"
      ]
    },
    {
      "cell_type": "code",
      "execution_count": null,
      "metadata": {
        "id": "_yzGjezkZAR_",
        "outputId": "c393927a-cbce-4649-9957-c6281e029a43"
      },
      "outputs": [
        {
          "name": "stdout",
          "output_type": "stream",
          "text": [
            "4/4 [==============================] - 7s 1s/step - loss: 0.0023 - accuracy: 0.0625\n"
          ]
        }
      ],
      "source": [
        "# Tokenize the test data using the same tokenizer used for training and validation\n",
        "tokenized_test_data = tokenizer(list(test_data[\"Data\"]), return_tensors=\"np\", padding=True)\n",
        "\n",
        "# Tokenizer returns a BatchEncoding, converting it to a dictionary for compatibility with Keras\n",
        "tokenized_test_data = dict(tokenized_test_data)\n",
        "\n",
        "# Extract numerical labels from the test data\n",
        "test_labels = np.array(test_data[\"label\"])\n",
        "\n",
        "# Evaluate the trained model on the test data\n",
        "evaluation = model_3.evaluate(tokenized_test_data, test_labels)"
      ]
    },
    {
      "cell_type": "code",
      "execution_count": null,
      "metadata": {
        "id": "UGghyQ5yZAR_",
        "outputId": "fd351cd9-2623-4c2d-e14b-da23632435e5"
      },
      "outputs": [
        {
          "name": "stdout",
          "output_type": "stream",
          "text": [
            "4/4 [==============================] - 8s 1s/step\n"
          ]
        }
      ],
      "source": [
        "# Make predictions on the test data using the trained model\n",
        "output = model_3.predict(tokenized_test_data)"
      ]
    },
    {
      "cell_type": "markdown",
      "metadata": {
        "id": "4TO6yIW_ZAR_"
      },
      "source": [
        "### Going ahead with the model which gave the highest accuracy. It had Dropout value of 0.2 and epochs equal 12"
      ]
    },
    {
      "cell_type": "code",
      "execution_count": null,
      "metadata": {
        "colab": {
          "base_uri": "https://localhost:8080/"
        },
        "id": "5YmbL-0Yf2NW",
        "outputId": "3c24c519-fb31-42c6-ec84-4614f557e19c"
      },
      "outputs": [
        {
          "name": "stdout",
          "output_type": "stream",
          "text": [
            "dict_keys(['loss', 'accuracy', 'val_loss', 'val_accuracy'])\n"
          ]
        }
      ],
      "source": [
        "# Print the keys available in the history object, which contains training/validation metrics\n",
        "print(history_2.history.keys())"
      ]
    },
    {
      "cell_type": "code",
      "execution_count": null,
      "metadata": {
        "colab": {
          "base_uri": "https://localhost:8080/",
          "height": 607
        },
        "id": "95mIV5Z8cLJA",
        "outputId": "c3729c94-abee-478c-dfeb-7a234ba24f50"
      },
      "outputs": [
        {
          "data": {
            "image/png": "[encoded data removed]",
            "text/plain": [
              "<Figure size 1200x600 with 2 Axes>"
            ]
          },
          "metadata": {},
          "output_type": "display_data"
        }
      ],
      "source": [
        "# Plot training and validation loss\n",
        "plt.figure(figsize=(12, 6))\n",
        "plt.subplot(1, 2, 1)\n",
        "plt.plot(history_2.history['loss'], label='Training Loss')\n",
        "plt.plot(history_2.history['val_loss'], label='Validation Loss')\n",
        "plt.title('Training and Validation Loss')\n",
        "plt.xlabel('Epoch')\n",
        "plt.ylabel('Loss')\n",
        "plt.legend()\n",
        "\n",
        "# Plot training and validation accuracy\n",
        "plt.subplot(1, 2, 2)\n",
        "plt.plot(history_2.history['accuracy'], label='Training Accuracy')\n",
        "plt.plot(history_2.history['val_accuracy'], label='Validation Accuracy')\n",
        "plt.title('Training and Validation Accuracy')\n",
        "plt.xlabel('Epoch')\n",
        "plt.ylabel('Accuracy')\n",
        "plt.legend()\n",
        "\n",
        "plt.tight_layout()\n",
        "plt.show()"
      ]
    },
    {
      "cell_type": "markdown",
      "metadata": {
        "id": "gbtWiKn2ZASA"
      },
      "source": [
        "### Question no. 3.3\n",
        "- Improvements\n",
        "  1. Due to the limited size of our dataset, the pretrained model is exhibiting overfitting issues, hindering its ability to generalize effectively.\n",
        "  2. Providing more diverse training data with multi-label data could enhance the accuracy of the model."
      ]
    },
    {
      "cell_type": "code",
      "execution_count": null,
      "metadata": {
        "id": "LAcAdlqdZASA"
      },
      "outputs": [],
      "source": []
    }
  ],
  "metadata": {
    "accelerator": "GPU",
    "colab": {
      "gpuType": "T4",
      "provenance": []
    },
    "kernelspec": {
      "display_name": "Python 3 (ipykernel)",
      "language": "python",
      "name": "python3"
    },
    "language_info": {
      "codemirror_mode": {
        "name": "ipython",
        "version": 3
      },
      "file_extension": ".py",
      "mimetype": "text/x-python",
      "name": "python",
      "nbconvert_exporter": "python",
      "pygments_lexer": "ipython3",
      "version": "3.12.0"
    }
  },
  "nbformat": 4,
  "nbformat_minor": 0
}